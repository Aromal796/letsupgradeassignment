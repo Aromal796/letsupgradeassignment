{
 "cells": [
  {
   "cell_type": "code",
   "execution_count": null,
   "metadata": {},
   "outputs": [],
   "source": [
    "import shutil \n",
    "\n",
    "from pathlib import Path \n",
    "\n",
    "   \n",
    "\n",
    "firstfile = Path(r'C:\\Users\\Sohom\\Desktop\\GFG.txt') \n",
    "\n",
    "secondfile = Path(r'C:\\Users\\Sohom\\Desktop\\CSE.txt') \n",
    "\n",
    "  \n",
    "\n",
    "newfile = input(\"Enter the name of the new file: \") \n",
    "\n",
    "print() \n",
    "\n",
    "print(\"The merged content of the 2 files will be in\", newfile) \n",
    "\n",
    "  \n",
    "\n",
    "with open(newfile, \"wb\") as wfd: \n",
    "\n",
    "  \n",
    "\n",
    "    for f in [firstfile, secondfile]: \n",
    "\n",
    "        with open(f, \"rb\") as fd: \n",
    "\n",
    "            shutil.copyfileobj(fd, wfd, 1024 * 1024 * 10) \n",
    "\n",
    "  \n",
    "\n",
    "print(\"\\nThe content is merged successfully.!\") \n",
    "\n",
    "print(\"Do you want to view it ? (y / n): \") \n",
    "\n",
    "  \n",
    "\n",
    "check = input() \n",
    "\n",
    "if check == 'n': \n",
    "\n",
    "    exit() \n",
    "\n",
    "else: \n",
    "\n",
    "    print() \n",
    "\n",
    "    c = open(newfile, \"r\") \n",
    "\n",
    "    print(c.read()) \n",
    "\n",
    "    c.close()\n",
    "\n"
   ]
  },
  {
   "cell_type": "code",
   "execution_count": 2,
   "metadata": {},
   "outputs": [
    {
     "name": "stdout",
     "output_type": "stream",
     "text": [
      "Original key list is : [1, 2, 3, 4, 5]\n",
      "Original value list is : ['a', 'b', 'c', 'd', ' e']\n",
      "Resultant dictionary is : {1: 'a', 2: 'b', 3: 'c', 4: 'd', 5: ' e'}\n"
     ]
    }
   ],
   "source": [
    "test_keys = [1, 2,3,4,5]\n",
    "\n",
    "test_values = ['a', 'b', 'c', 'd',' e'] \n",
    "\n",
    "\n",
    "print (\"Original key list is : \" + str(test_keys)) \n",
    "\n",
    "print (\"Original value list is : \" + str(test_values)) \n",
    "\n",
    " \n",
    "\n",
    "res = {} \n",
    "\n",
    "for key in test_keys: \n",
    "\n",
    "    for value in test_values: \n",
    "\n",
    "        res[key] = value \n",
    "\n",
    "        test_values.remove(value) \n",
    "\n",
    "        break  \n",
    "\n",
    "  \n",
    "\n",
    "print (\"Resultant dictionary is : \" + str(res))"
   ]
  }
 ],
 "metadata": {
  "kernelspec": {
   "display_name": "Python 3",
   "language": "python",
   "name": "python3"
  },
  "language_info": {
   "codemirror_mode": {
    "name": "ipython",
    "version": 3
   },
   "file_extension": ".py",
   "mimetype": "text/x-python",
   "name": "python",
   "nbconvert_exporter": "python",
   "pygments_lexer": "ipython3",
   "version": "3.8.5"
  }
 },
 "nbformat": 4,
 "nbformat_minor": 4
}
