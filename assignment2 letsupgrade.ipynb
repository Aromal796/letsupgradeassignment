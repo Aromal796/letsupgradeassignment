{
 "cells": [
  {
   "cell_type": "code",
   "execution_count": 1,
   "metadata": {},
   "outputs": [
    {
     "name": "stdout",
     "output_type": "stream",
     "text": [
      "The original list is : [5, 6, [], 3, [], [], 9]\n",
      "List after empty list removal : [5, 6, 3, 9]\n"
     ]
    }
   ],
   "source": [
    "test_list = [5, 6, [], 3, [], [], 9] \n",
    "\n",
    "print(\"The original list is : \" + str(test_list)) \n",
    "\n",
    "   \n",
    "\n",
    "res = [ele for ele in test_list if ele != []] \n",
    "\n",
    "  \n",
    "print (\"List after empty list removal : \" + str(res))\n",
    "\n"
   ]
  },
  {
   "cell_type": "code",
   "execution_count": 8,
   "metadata": {},
   "outputs": [
    {
     "name": "stdout",
     "output_type": "stream",
     "text": [
      "Python is great and Java also\n"
     ]
    }
   ],
   "source": [
    "from collections import Counter \n",
    "def remov_duplicates(input): \n",
    "\n",
    "    input = input.split(\" \") \n",
    "\n",
    "    for i in range(0, len(input)): \n",
    "\n",
    "        input[i] = \"\".join(input[i]) \n",
    "\n",
    "    UniqW = Counter(input) \n",
    "\n",
    "  \n",
    "\n",
    "    s = \" \".join(UniqW.keys()) \n",
    "\n",
    "    print (s) \n",
    "\n",
    " \n",
    "\n",
    "if __name__ == \"__main__\": \n",
    "\n",
    "    input = 'Python is great and Java is also great'\n",
    "\n",
    "    remov_duplicates(input)\n",
    "    "
   ]
  },
  {
   "cell_type": "code",
   "execution_count": 10,
   "metadata": {},
   "outputs": [
    {
     "name": "stdout",
     "output_type": "stream",
     "text": [
      "Count of e in Letsupgrade is : 2\n"
     ]
    }
   ],
   "source": [
    "test_str = \"Letsupgrade\"\n",
    "\n",
    "count = 0\n",
    "\n",
    "for i in test_str: \n",
    "\n",
    "    if i == 'e': \n",
    "\n",
    "        count = count + 1\n",
    "\n",
    "print (\"Count of e in Letsupgrade is : \"\n",
    "\n",
    "                            +  str(count))"
   ]
  },
  {
   "cell_type": "code",
   "execution_count": null,
   "metadata": {},
   "outputs": [],
   "source": []
  }
 ],
 "metadata": {
  "kernelspec": {
   "display_name": "Python 3",
   "language": "python",
   "name": "python3"
  },
  "language_info": {
   "codemirror_mode": {
    "name": "ipython",
    "version": 3
   },
   "file_extension": ".py",
   "mimetype": "text/x-python",
   "name": "python",
   "nbconvert_exporter": "python",
   "pygments_lexer": "ipython3",
   "version": "3.8.5"
  }
 },
 "nbformat": 4,
 "nbformat_minor": 4
}
